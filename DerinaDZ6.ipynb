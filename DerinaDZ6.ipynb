{
 "cells": [
  {
   "cell_type": "markdown",
   "metadata": {},
   "source": [
    "- Создайте класс Point(x, y) x, y - координаты точки на плоскости.\n",
    "- Реализуйте два метода a.distanceTo(b) - евкливодов расстояние между $a$ и $b$\n",
    "- Переопределите __str__ так чтобы при печати экземпляра выводилось (x, y) - то есть координаты точки"
   ]
  },
  {
   "cell_type": "code",
   "execution_count": 17,
   "metadata": {},
   "outputs": [],
   "source": [
    "import math\n",
    "class Point:\n",
    "    def __init__(self, x, y):\n",
    "        self.x = x\n",
    "        self.y = y\n",
    "    def distance(self, other):\n",
    "        return math.sqrt( (self.x-other.x)**2+(self.y-other.y)**2 )\n",
    "    def __str__(self):\n",
    "        return \"(\" + str(self.x) + \",\" + str(self.y) +  \")\""
   ]
  },
  {
   "cell_type": "code",
   "execution_count": 18,
   "metadata": {},
   "outputs": [
    {
     "name": "stdout",
     "output_type": "stream",
     "text": [
      "первая точка:  (2,3) \n",
      "вторая точка:  (5,6)\n",
      "расстояние между точками:  4.242640687119285\n"
     ]
    }
   ],
   "source": [
    "point1=Point(2,3)\n",
    "point2=Point(5,6)\n",
    "print(\"первая точка: \",point1, \"\\nвторая точка: \", point2)\n",
    "print (\"расстояние между точками: \",Point.distance(point1,point2))"
   ]
  },
  {
   "cell_type": "markdown",
   "metadata": {},
   "source": [
    "- После того как Вы создадите класс запустите следующий код"
   ]
  },
  {
   "cell_type": "code",
   "execution_count": 19,
   "metadata": {},
   "outputs": [],
   "source": [
    "import random\n",
    "random.seed(42)\n",
    "points = list()\n",
    "for i in range(1000):\n",
    "    x = random.randint(1, 100)\n",
    "    y = random.randint(1, 100)\n",
    "    points.append(Point(x, y))\n"
   ]
  },
  {
   "cell_type": "markdown",
   "metadata": {},
   "source": [
    "- Напишите метод, который определит у какой из заданых точек больше всего соседей в радиусе 5.\n",
    "- Если таких точек несколько, то тогда выведите точку с наименьше суммой координат, если таких точек несколько, то выведите точку с наименьше абсциссой."
   ]
  },
  {
   "cell_type": "code",
   "execution_count": 26,
   "metadata": {},
   "outputs": [],
   "source": [
    "def neighbors(mas):\n",
    "    maxneighbors = 0\n",
    "    index_arr = []\n",
    "    for i in range (len(mas)):\n",
    "        n = 0\n",
    "        for j in range (len(mas)):\n",
    "            if i != j:\n",
    "                if mas[i].distance(mas[j]) <= 5:\n",
    "                    n=n+1\n",
    "            if n>maxneighbors:\n",
    "                maxneighbors=n\n",
    "                index_arr = []\n",
    "                index_arr.append(i)\n",
    "            elif n==maxneighbors:\n",
    "                index_arr.append(i)\n",
    "    if maxneighbors==1:\n",
    "        print (\"у точки \", mas[index_arr[0]], \"наибольшее количество соседей\")\n",
    "    else:\n",
    "        minsum_arr=[]\n",
    "        minsum = mas[index_arr[0]].x + mas[index_arr[0]].y\n",
    "        for i in range (len(index_arr)):\n",
    "            coordinatesum = mas[index_arr[i]].x+mas[index_arr[i]].y\n",
    "            if coordinatesum < minsum:\n",
    "                minsum_arr=[]\n",
    "                minsum_arr.append(index_arr[i])\n",
    "                minsum = coordinatesum\n",
    "            elif minsum == coordinatesum:\n",
    "                minsum_arr.append(index_arr[i])\n",
    "        if len(minsum_arr)==1:\n",
    "            print(\"у точки \", mas[minsum_arr[0]], \"наибольшее количество соседей и наименьшая сумма координат\")\n",
    "        else:\n",
    "            minx = mas[minsum_arr[0]].x\n",
    "            minindex = minsum_arr[0]\n",
    "            for i in range (len(minsum_arr)):\n",
    "                if mas[minsum_arr[i]].x < minx:\n",
    "                    minx = mas[minsum_arr[i]].x\n",
    "                    minindex = minsum_arr[i]\n",
    "            print(\"у точки \", mas[minindex], \"наибольшее количество соседей, наименьшая сумма координат и наименьшая абсцисса\")"
   ]
  },
  {
   "cell_type": "code",
   "execution_count": 27,
   "metadata": {},
   "outputs": [
    {
     "name": "stdout",
     "output_type": "stream",
     "text": [
      "у точки  (12,61) наибольшее количество соседей, наименьшая сумма координат и наименьшая абсцисса\n"
     ]
    }
   ],
   "source": [
    "neighbors(points)"
   ]
  },
  {
   "cell_type": "code",
   "execution_count": null,
   "metadata": {},
   "outputs": [],
   "source": []
  }
 ],
 "metadata": {
  "kernelspec": {
   "display_name": "Python 3",
   "language": "python",
   "name": "python3"
  },
  "language_info": {
   "codemirror_mode": {
    "name": "ipython",
    "version": 3
   },
   "file_extension": ".py",
   "mimetype": "text/x-python",
   "name": "python",
   "nbconvert_exporter": "python",
   "pygments_lexer": "ipython3",
   "version": "3.8.8"
  }
 },
 "nbformat": 4,
 "nbformat_minor": 4
}
