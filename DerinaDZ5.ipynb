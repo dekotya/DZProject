{
 "cells": [
  {
   "cell_type": "markdown",
   "id": "cf3ae727",
   "metadata": {},
   "source": [
    "Для того чтобы оценка за данную работу пошла в зачёт нужно отправить ссылку на нее в гит или ноутбук до <b> 17.10.2021 17:00 </b>."
   ]
  },
  {
   "cell_type": "markdown",
   "id": "cfc3e82d",
   "metadata": {},
   "source": [
    "<b>Задание 1.</b> Создайте массив, который состоит из целых чисел от -50 до 50 включительно. Затем удалите последние 25 элеметов массива. Затем разверните массив. Добавьте в конец массива 999. Создайте новый массив в который войдут все четные числа из ранее полученного массива и напечатайте его."
   ]
  },
  {
   "cell_type": "code",
   "execution_count": 13,
   "id": "f65fc6c1",
   "metadata": {
    "scrolled": true
   },
   "outputs": [
    {
     "name": "stdout",
     "output_type": "stream",
     "text": [
      "[24, 22, 20, 18, 16, 14, 12, 10, 8, 6, 4, 2, 0, -2, -4, -6, -8, -10, -12, -14, -16, -18, -20, -22, -24, -26, -28, -30, -32, -34, -36, -38, -40, -42, -44, -46, -48, -50]\n"
     ]
    }
   ],
   "source": [
    "# решение\n",
    "integer_arr = list(range(-50,51))\n",
    "while len(integer_arr) > 76:\n",
    "    integer_arr.pop()\n",
    "integer_arr.reverse()\n",
    "integer_arr.append(999)\n",
    "empty_arr = []\n",
    "for i in range(len(integer_arr)):\n",
    "    if (integer_arr[i]) % 2 == 0:\n",
    "        empty_arr.append(integer_arr[i])\n",
    "print(empty_arr)"
   ]
  },
  {
   "cell_type": "markdown",
   "id": "4907145c",
   "metadata": {},
   "source": [
    "<b>Задание 2.</b> Даны несколько массивов целых чисел (A, B, C, D). Напишите программный код, с помощью которого вы сможете определить длину самой длинной непрерывной последовательности равных значений для каждого из массивов."
   ]
  },
  {
   "cell_type": "code",
   "execution_count": 42,
   "id": "02880b3a",
   "metadata": {},
   "outputs": [],
   "source": [
    "# [1, 1, 1, 2, 3, 4, 5, 6, 3, 4, 1, 1, 1, 1] - самая длинная последовательность длины 4\n",
    "A = [1] * 20 + [1, 1, 3] * 30 + [1] * 21\n",
    "\n",
    "B = list(range(1, 9, 2)) * 3 + list(range(4, 1, 1)) * 2 + [3] * 3\n",
    "B.pop()\n",
    "B.reverse()\n",
    "B.pop()\n",
    "B.reverse()\n",
    "\n",
    "C = [b - 2 for b in B]\n",
    "C.reverse()\n",
    "C =  A + C\n",
    "\n",
    "D = [777] + [666] + [1,2,1,1] * 2 + [1,1,1,1,3]*3 + [1, 4] * 2\n"
   ]
  },
  {
   "cell_type": "code",
   "execution_count": 57,
   "id": "a28bc2bc",
   "metadata": {},
   "outputs": [
    {
     "name": "stdout",
     "output_type": "stream",
     "text": [
      "22\n",
      "2\n",
      "23\n",
      "6\n"
     ]
    }
   ],
   "source": [
    "# решение\n",
    "def maxlen(A):\n",
    "    a=1\n",
    "    empty_arr = []\n",
    "    for i in range(len(A)-1):\n",
    "        if (A[i])==(A[i+1]):\n",
    "            a+=1\n",
    "        else: \n",
    "            empty_arr.append(a)\n",
    "            a=1\n",
    "    empty_arr.append(a)\n",
    "    max=0\n",
    "    for i in range(len(empty_arr)):\n",
    "        if empty_arr[i]>max:\n",
    "            max=empty_arr[i]\n",
    "    return max\n",
    "print(maxlen(A))\n",
    "print(maxlen(B))\n",
    "print(maxlen(C))\n",
    "print(maxlen(D))"
   ]
  },
  {
   "cell_type": "markdown",
   "id": "8efc26b7",
   "metadata": {},
   "source": [
    "<b>Задание 3.</b> Напишите функция, которая на вход принимает прямоугольную матрицу и возвращает транспонированную матрицу. Протестируйте функцию на матрицах A, B, C."
   ]
  },
  {
   "cell_type": "code",
   "execution_count": 62,
   "id": "d27847e4",
   "metadata": {},
   "outputs": [],
   "source": [
    "A = [[1, 1], [1, 0]]\n",
    "B = [[2, 3, 4], [4, 5, 6], [7, -1, -2], [-4, -6, 99], [1, 0, 1]]\n",
    "C = [[1, 2, 3, 4, 5]]"
   ]
  },
  {
   "cell_type": "code",
   "execution_count": 70,
   "id": "8cce8472",
   "metadata": {},
   "outputs": [
    {
     "name": "stdout",
     "output_type": "stream",
     "text": [
      "[[1, 1], [1, 0]]\n",
      "[[2, 4, 7, -4, 1], [3, 5, -1, -6, 0], [4, 6, -2, 99, 1]]\n",
      "[[1], [2], [3], [4], [5]]\n"
     ]
    }
   ],
   "source": [
    "# решение\n",
    "def transp(A):\n",
    "    empty_arr=[]\n",
    "    TR=[]\n",
    "    for i in range(len(A[0])):\n",
    "        for j in range(len(A)):\n",
    "            empty_arr.append(A[j][i])\n",
    "        TR.append(empty_arr)\n",
    "        empty_arr=[]\n",
    "    return TR\n",
    "print(transp(A))\n",
    "print(transp(B))\n",
    "print(transp(C))"
   ]
  },
  {
   "cell_type": "code",
   "execution_count": null,
   "id": "284e68a3",
   "metadata": {},
   "outputs": [],
   "source": []
  }
 ],
 "metadata": {
  "kernelspec": {
   "display_name": "Python 3",
   "language": "python",
   "name": "python3"
  },
  "language_info": {
   "codemirror_mode": {
    "name": "ipython",
    "version": 3
   },
   "file_extension": ".py",
   "mimetype": "text/x-python",
   "name": "python",
   "nbconvert_exporter": "python",
   "pygments_lexer": "ipython3",
   "version": "3.8.8"
  }
 },
 "nbformat": 4,
 "nbformat_minor": 5
}
