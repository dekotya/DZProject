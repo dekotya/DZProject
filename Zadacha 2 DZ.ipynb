{
 "cells": [
  {
   "cell_type": "code",
   "execution_count": 149,
   "id": "2b2f2630",
   "metadata": {},
   "outputs": [
    {
     "name": "stdout",
     "output_type": "stream",
     "text": [
      "2\n",
      "2012\n",
      " S  M Tu  W Th  F  S\n",
      "          1  2  3  4 \n",
      " 5  6  7  8  9 10 11 \n",
      "12 13 14 15 16 17 18 \n",
      "19 20 21 22 23 24 25 \n",
      "26 27 28 29          \n"
     ]
    }
   ],
   "source": [
    "#дня недели первого числа месяца\n",
    "import numpy as np\n",
    "m = int(input())\n",
    "y = int(input())\n",
    "prov_vis = y\n",
    "if m < 3:\n",
    "    m1 = m + 12\n",
    "    y = y - 1\n",
    "else:\n",
    "    m1 = m\n",
    "c = int(y // 100)\n",
    "y1 = y % 100\n",
    "h = ((((m1 + 1) * 26 // 10) + 1 + y1 + (y1 // 4) + (c // 4) - 2 * c) % 7)\n",
    "d = ((h + 5) % 7) + 1\n",
    "\n",
    "#учет високосного года\n",
    "if (prov_vis % 4 == 0):\n",
    "    num_days=(31,29,31,30,31,30,31,31,30,31,30,31)\n",
    "else:\n",
    "    num_days=(31,28,31,30,31,30,31,31,30,31,30,31)\n",
    "    \n",
    "#формирование вывода\n",
    "arr = list(range(1, num_days[m-1] + 1))\n",
    "\n",
    "print(' S',' M','Tu',' W','Th',' F',' S')\n",
    "\n",
    "if d < 7:\n",
    "    for i in range(d):\n",
    "        arr.insert(i, ' ')\n",
    "    \n",
    "for i in range (7 - len(arr) % 7):\n",
    "    arr.append(' ')\n",
    "    \n",
    "cal = np.array(arr)\n",
    "int(len(arr) / 7)\n",
    "cal = cal.reshape(int(len(arr) / 7),7)\n",
    "\n",
    "for row in cal:\n",
    "    row_str = \"\"\n",
    "    for element in row:\n",
    "        row_str += str(element).rjust(2) + \" \"\n",
    "    print(row_str)"
   ]
  },
  {
   "cell_type": "code",
   "execution_count": null,
   "id": "3787c4c9",
   "metadata": {},
   "outputs": [],
   "source": []
  }
 ],
 "metadata": {
  "kernelspec": {
   "display_name": "Python 3",
   "language": "python",
   "name": "python3"
  },
  "language_info": {
   "codemirror_mode": {
    "name": "ipython",
    "version": 3
   },
   "file_extension": ".py",
   "mimetype": "text/x-python",
   "name": "python",
   "nbconvert_exporter": "python",
   "pygments_lexer": "ipython3",
   "version": "3.8.8"
  }
 },
 "nbformat": 4,
 "nbformat_minor": 5
}
