{
 "cells": [
  {
   "cell_type": "code",
   "execution_count": 81,
   "id": "80d08d47",
   "metadata": {},
   "outputs": [],
   "source": [
    "def evaluate(x, a):\n",
    "    a.reverse()\n",
    "    result = 0\n",
    "    for i in range(len(a)):\n",
    "        result = a[i] + x * result\n",
    "    return result\n",
    "\n",
    "def exp(n, x):\n",
    "    a = []\n",
    "    for i in range(n):\n",
    "        a.append(1/math.factorial(i))\n",
    "    return evaluate(x, a)"
   ]
  },
  {
   "cell_type": "code",
   "execution_count": 82,
   "id": "4137b15a",
   "metadata": {},
   "outputs": [
    {
     "name": "stdout",
     "output_type": "stream",
     "text": [
      "1000\n",
      "Результат полученный с помощью метода Горнера - 1.0010005001667084\n",
      "Результат полученный с помощью math.exp(x) - 1.0010005001667084\n",
      "\n",
      "Результат полученный с помощью метода Горнера - 1.1051709180756477\n",
      "Результат полученный с помощью math.exp(x) - 1.1051709180756477\n",
      "\n",
      "Результат полученный с помощью метода Горнера - 2.718281828459045\n",
      "Результат полученный с помощью math.exp(x) - 2.718281828459045\n",
      "\n",
      "Результат полученный с помощью метода Горнера - 22026.465794806714\n",
      "Результат полученный с помощью math.exp(x) - 22026.465794806718\n",
      "\n",
      "Результат полученный с помощью метода Горнера - 10686474581524.473\n",
      "Результат полученный с помощью math.exp(x) - 10686474581524.463\n",
      "\n",
      "Результат полученный с помощью метода Горнера - 2.6881171418126436e+43\n",
      "Результат полученный с помощью math.exp(x) - 2.6881171418161356e+43\n",
      "\n"
     ]
    }
   ],
   "source": [
    "import math\n",
    "n = int(input())\n",
    "X = [0.001, 0.1, 1, 10, 30, 100]\n",
    "for x in X:\n",
    "        print('Результат полученный с помощью метода Горнера -', exp(n, x))\n",
    "        print('Результат полученный с помощью math.exp(x) -', math.exp(x))\n",
    "        print()\n",
    "# Таким образом для небольших чисел результат получается достаточно точным, а при увеличении разряда точность ощутимо снижается"
   ]
  },
  {
   "cell_type": "code",
   "execution_count": null,
   "id": "fc608bf2",
   "metadata": {},
   "outputs": [],
   "source": []
  }
 ],
 "metadata": {
  "kernelspec": {
   "display_name": "Python 3",
   "language": "python",
   "name": "python3"
  },
  "language_info": {
   "codemirror_mode": {
    "name": "ipython",
    "version": 3
   },
   "file_extension": ".py",
   "mimetype": "text/x-python",
   "name": "python",
   "nbconvert_exporter": "python",
   "pygments_lexer": "ipython3",
   "version": "3.8.8"
  }
 },
 "nbformat": 4,
 "nbformat_minor": 5
}
